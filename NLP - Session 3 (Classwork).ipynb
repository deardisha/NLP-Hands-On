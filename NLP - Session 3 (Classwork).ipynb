{
 "cells": [
  {
   "cell_type": "markdown",
   "id": "c8cd4755",
   "metadata": {},
   "source": [
    "# Scrapping the web for text data"
   ]
  },
  {
   "cell_type": "code",
   "execution_count": 1,
   "id": "16a9a9e5",
   "metadata": {},
   "outputs": [],
   "source": [
    "from urllib import request"
   ]
  },
  {
   "cell_type": "code",
   "execution_count": 4,
   "id": "3ae3fc3b",
   "metadata": {},
   "outputs": [],
   "source": [
    "url = \"https://gutenberg.org/cache/epub/69970/pg69970.txt\""
   ]
  },
  {
   "cell_type": "code",
   "execution_count": 5,
   "id": "5e808587",
   "metadata": {},
   "outputs": [],
   "source": [
    "response = request.urlopen(url)"
   ]
  },
  {
   "cell_type": "code",
   "execution_count": 6,
   "id": "57819463",
   "metadata": {},
   "outputs": [],
   "source": [
    "raw = response.read().decode('utf8')"
   ]
  },
  {
   "cell_type": "code",
   "execution_count": 12,
   "id": "44bd74b6",
   "metadata": {},
   "outputs": [],
   "source": [
    "import nltk\n",
    "from nltk.tokenize import word_tokenize\n",
    "tokens = word_tokenize(raw)"
   ]
  },
  {
   "cell_type": "code",
   "execution_count": 13,
   "id": "a90c9566",
   "metadata": {},
   "outputs": [
    {
     "name": "stdout",
     "output_type": "stream",
     "text": [
      "['\\ufeffThe', 'Project', 'Gutenberg', 'eBook', 'of', 'The', 'English', 'Husbandman', '(', 'The', 'Second', 'Booke', ')', ',', 'by', 'G', 'M', 'This', 'eBook', 'is']\n"
     ]
    }
   ],
   "source": [
    "print(tokens[:20])"
   ]
  },
  {
   "cell_type": "code",
   "execution_count": null,
   "id": "6e7b4c56",
   "metadata": {},
   "outputs": [],
   "source": [
    "# we can write a regular expression to pre-process this text (cleaning up the text)"
   ]
  },
  {
   "cell_type": "code",
   "execution_count": 15,
   "id": "dd2e568b",
   "metadata": {},
   "outputs": [],
   "source": [
    "# Timeline, Location Info, Character Sketches, Look for patterns"
   ]
  },
  {
   "cell_type": "code",
   "execution_count": 16,
   "id": "7b5aaa2d",
   "metadata": {},
   "outputs": [],
   "source": [
    "#Explore the rest, Connect the dots yourself!"
   ]
  },
  {
   "cell_type": "code",
   "execution_count": 17,
   "id": "d65acc38",
   "metadata": {},
   "outputs": [],
   "source": [
    "# Sequential Models can be used for lyric/plot/music generation!"
   ]
  },
  {
   "cell_type": "markdown",
   "id": "d7809aba",
   "metadata": {},
   "source": [
    "# Different Stemming Algos"
   ]
  },
  {
   "cell_type": "code",
   "execution_count": 28,
   "id": "1b022f59",
   "metadata": {},
   "outputs": [
    {
     "data": {
      "text/plain": [
       "'happi'"
      ]
     },
     "execution_count": 28,
     "metadata": {},
     "output_type": "execute_result"
    }
   ],
   "source": [
    "from nltk.stem import PorterStemmer\n",
    "porter = PorterStemmer()\n",
    "porter.stem('happiness')"
   ]
  },
  {
   "cell_type": "code",
   "execution_count": 22,
   "id": "f1295039",
   "metadata": {},
   "outputs": [],
   "source": [
    "#Sensitive to Suffixes only"
   ]
  },
  {
   "cell_type": "code",
   "execution_count": 27,
   "id": "2d5452b4",
   "metadata": {},
   "outputs": [
    {
     "data": {
      "text/plain": [
       "'happy'"
      ]
     },
     "execution_count": 27,
     "metadata": {},
     "output_type": "execute_result"
    }
   ],
   "source": [
    "from nltk.stem import LancasterStemmer\n",
    "porter = LancasterStemmer()\n",
    "porter.stem('happiness')"
   ]
  },
  {
   "cell_type": "code",
   "execution_count": 36,
   "id": "d26a420d",
   "metadata": {},
   "outputs": [
    {
     "data": {
      "text/plain": [
       "'sing'"
      ]
     },
     "execution_count": 36,
     "metadata": {},
     "output_type": "execute_result"
    }
   ],
   "source": [
    "from nltk.stem import RegexpStemmer\n",
    "porter = RegexpStemmer('ing')\n",
    "porter.stem('singing') #cling ring etc. "
   ]
  },
  {
   "cell_type": "code",
   "execution_count": 39,
   "id": "3ce59f1b",
   "metadata": {},
   "outputs": [
    {
     "data": {
      "text/plain": [
       "'detest'"
      ]
     },
     "execution_count": 39,
     "metadata": {},
     "output_type": "execute_result"
    }
   ],
   "source": [
    "from nltk.stem import SnowballStemmer\n",
    "porter = SnowballStemmer('french')\n",
    "porter.stem('detester')"
   ]
  },
  {
   "cell_type": "code",
   "execution_count": 48,
   "id": "9fb13300",
   "metadata": {},
   "outputs": [
    {
     "data": {
      "text/plain": [
       "'bonit'"
      ]
     },
     "execution_count": 48,
     "metadata": {},
     "output_type": "execute_result"
    }
   ],
   "source": [
    "from nltk.stem import SnowballStemmer\n",
    "porter = SnowballStemmer('spanish')\n",
    "porter.stem('bonita')"
   ]
  },
  {
   "cell_type": "code",
   "execution_count": 46,
   "id": "d047eaee",
   "metadata": {},
   "outputs": [],
   "source": [
    "from nltk.stem import PorterStemmer\n",
    "porter = PorterStemmer()\n",
    "text = porter.stem('As she sat watching the world go by, something caught her eye. It was not so much its color or shape, but the way it was moving. She squinted to see if she could better understand what it was and where it was going, but it did not help.')\n",
    "text = [porter.stem (token) for token in text.split(\" \")] "
   ]
  },
  {
   "cell_type": "code",
   "execution_count": 47,
   "id": "f07f360f",
   "metadata": {},
   "outputs": [
    {
     "name": "stdout",
     "output_type": "stream",
     "text": [
      "as she sat watch the world go by, someth caught her eye. it wa not so much it color or shape, but the way it wa moving. she squint to see if she could better understand what it wa and where it wa going, but it did not help.\n"
     ]
    }
   ],
   "source": [
    "print(\" \".join(text))"
   ]
  },
  {
   "cell_type": "code",
   "execution_count": null,
   "id": "b06d46aa",
   "metadata": {},
   "outputs": [],
   "source": []
  }
 ],
 "metadata": {
  "kernelspec": {
   "display_name": "Python 3",
   "language": "python",
   "name": "python3"
  },
  "language_info": {
   "codemirror_mode": {
    "name": "ipython",
    "version": 3
   },
   "file_extension": ".py",
   "mimetype": "text/x-python",
   "name": "python",
   "nbconvert_exporter": "python",
   "pygments_lexer": "ipython3",
   "version": "3.8.8"
  }
 },
 "nbformat": 4,
 "nbformat_minor": 5
}
